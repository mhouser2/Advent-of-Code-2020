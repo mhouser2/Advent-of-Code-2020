{
 "cells": [
  {
   "cell_type": "markdown",
   "metadata": {},
   "source": [
    "# Day 1"
   ]
  },
  {
   "cell_type": "code",
   "execution_count": 2,
   "metadata": {},
   "outputs": [],
   "source": [
    "import os\n",
    "os.chdir('C:\\\\Users\\\\mhous\\\\AOC')"
   ]
  },
  {
   "cell_type": "code",
   "execution_count": 178,
   "metadata": {},
   "outputs": [],
   "source": [
    "with open(\"aoc_day_1.txt\") as f:\n",
    "    expense_report = f.readlines()\n",
    "expense_report = [int(x.strip()) for x in expense_report] "
   ]
  },
  {
   "cell_type": "code",
   "execution_count": 179,
   "metadata": {},
   "outputs": [],
   "source": [
    "def day_1_p1(expense_report):\n",
    "    for i in expense_report:\n",
    "        for j in expense_report:\n",
    "            if i + j == 2020:\n",
    "                prod = i*j\n",
    "                break\n",
    "    print(\"Product of the 2 integers that sum to 2020: \" + str(prod))"
   ]
  },
  {
   "cell_type": "code",
   "execution_count": 180,
   "metadata": {},
   "outputs": [
    {
     "name": "stdout",
     "output_type": "stream",
     "text": [
      "Product of 2 integers that sum to 2020: 181044\n"
     ]
    }
   ],
   "source": [
    "day_1_p1(expense_report)"
   ]
  },
  {
   "cell_type": "code",
   "execution_count": 181,
   "metadata": {},
   "outputs": [],
   "source": [
    "def day_1_p2(expense_report):\n",
    "    for i in expense_report:\n",
    "        for j in expense_report:\n",
    "            for k in expense_report:\n",
    "                if i + j + k == 2020:\n",
    "                    prod = i*j*k\n",
    "                    break\n",
    "    print(\"Product of the 3 integers that sum to 2020: \" + str(prod))                "
   ]
  },
  {
   "cell_type": "code",
   "execution_count": 182,
   "metadata": {},
   "outputs": [
    {
     "name": "stdout",
     "output_type": "stream",
     "text": [
      "Product of the 3 integers that sum to 2020: 82660352\n"
     ]
    }
   ],
   "source": [
    "day_1_p2(expense_report)"
   ]
  },
  {
   "cell_type": "markdown",
   "metadata": {},
   "source": [
    "# Day 2"
   ]
  },
  {
   "cell_type": "code",
   "execution_count": 172,
   "metadata": {},
   "outputs": [],
   "source": [
    "with open(\"aoc_day_2.txt\") as f:\n",
    "    passwords = f.readlines()\n",
    "passwords = [x.strip() for x in passwords] "
   ]
  },
  {
   "cell_type": "code",
   "execution_count": 174,
   "metadata": {},
   "outputs": [
    {
     "name": "stdout",
     "output_type": "stream",
     "text": [
      "Number of valid passwords: 414\n"
     ]
    }
   ],
   "source": [
    "#part one \n",
    "valid = 0\n",
    "for i in passwords:\n",
    "    lower = int(i.split('-')[0])\n",
    "    upper = int(i.split('-')[1].split(' ')[0])\n",
    "    letter = i.split(' ')[1].strip(':')\n",
    "    password = i.split(': ')[1]\n",
    "    letter_occurences = password.count(letter)\n",
    "    if (lower <= letter_occurences) and (letter_occurences <= upper):\n",
    "        valid+= 1\n",
    "print(\"Number of valid passwords: \" + str(valid))"
   ]
  },
  {
   "cell_type": "code",
   "execution_count": 175,
   "metadata": {},
   "outputs": [
    {
     "name": "stdout",
     "output_type": "stream",
     "text": [
      "Number of valid passwords: 413\n"
     ]
    }
   ],
   "source": [
    "valid = 0\n",
    "for i in passwords:\n",
    "    first_index = int(i.split('-')[0])\n",
    "    second_index = int(i.split('-')[1].split(' ')[0])\n",
    "    letter = i.split(' ')[1].strip(':')\n",
    "    password = i.split(': ')[1]   \n",
    "    occurences = 0\n",
    "    if letter == password[first_index-1]:\n",
    "        occurences +=1\n",
    "    if letter == password[second_index-1]:\n",
    "        occurences +=1\n",
    "    if occurences == 1:\n",
    "        valid+=1\n",
    "print(\"Number of valid passwords: \" + str(valid))"
   ]
  },
  {
   "cell_type": "markdown",
   "metadata": {},
   "source": [
    "# Day 3"
   ]
  },
  {
   "cell_type": "code",
   "execution_count": 160,
   "metadata": {},
   "outputs": [],
   "source": [
    "#Import day 3 data\n",
    "with open(\"aoc_day_3.txt\") as f:\n",
    "    trees = f.readlines()\n",
    "trees = [x.strip() for x in trees] "
   ]
  },
  {
   "cell_type": "code",
   "execution_count": 161,
   "metadata": {},
   "outputs": [],
   "source": [
    "#Since the pattern repeats there's no need to worry about appending too many times\n",
    "#So I just appended each string to itself 15 times, felt like a safe number to avoid index errors\n",
    "for j in range(15):\n",
    "    for i in range(len(trees)):\n",
    "        trees[i] = trees[i] + trees[i]"
   ]
  },
  {
   "cell_type": "code",
   "execution_count": 169,
   "metadata": {},
   "outputs": [
    {
     "name": "stdout",
     "output_type": "stream",
     "text": [
      "Number of trees in the way: 220\n"
     ]
    }
   ],
   "source": [
    "#Part 1\n",
    "n_trees = 0\n",
    "right=3\n",
    "\n",
    "for i in range(1, len(trees)):\n",
    "    if trees[i][right] == '#':\n",
    "        n_trees +=1\n",
    "        right +=3\n",
    "    else:\n",
    "        right +=3\n",
    "print(\"Number of trees in the way: \" + str(n_trees))"
   ]
  },
  {
   "cell_type": "code",
   "execution_count": 170,
   "metadata": {},
   "outputs": [
    {
     "name": "stdout",
     "output_type": "stream",
     "text": [
      "Product of all n_trees: 2138320800\n"
     ]
    }
   ],
   "source": [
    "#Part 2\n",
    "right = [1,3,5,7,1]\n",
    "down = [1,1,1,1,2]\n",
    "n_trees = 0\n",
    "for i in range(5):\n",
    "    if i == 0:\n",
    "        x = right[i]\n",
    "        for j in range(down[i], len(trees), down[i]):\n",
    "            if trees[j][x] == '#':\n",
    "                n_trees +=1\n",
    "                x += right[i]\n",
    "            else:\n",
    "                x += right[i]\n",
    "    else:\n",
    "        x = right[i]\n",
    "        current_trees = 0\n",
    "        for j in range(down[i], len(trees), down[i]):\n",
    "            if trees[j][x] == '#':\n",
    "                current_trees +=1\n",
    "                x += right[i]\n",
    "            else:\n",
    "                x +=right[i]\n",
    "        n_trees *= current_trees\n",
    "                \n",
    "print(\"Product of all n_trees: \" + str(n_trees))"
   ]
  },
  {
   "cell_type": "markdown",
   "metadata": {},
   "source": [
    "# Day 4"
   ]
  },
  {
   "cell_type": "code",
   "execution_count": 61,
   "metadata": {},
   "outputs": [],
   "source": [
    "lines = [line.replace('\\n',' ') for line in open('aoc_day_4.txt').read().split('\\n\\n') ]\n",
    "passports = [dict(tuple(x.split(':')) for x in line.split()) for line in lines]"
   ]
  },
  {
   "cell_type": "code",
   "execution_count": 90,
   "metadata": {},
   "outputs": [],
   "source": [
    "def d4_p1(x):\n",
    "    required_fields = ['byr','iyr','eyr','hgt','hcl','ecl','pid']\n",
    "    return all(d in x for d in required_fields)\n",
    "\n",
    "n_valid = sum([d4_p1(x) for x in passports])\n",
    "print(\"Number of valid passports: \" + str(n_valid))"
   ]
  },
  {
   "cell_type": "code",
   "execution_count": 100,
   "metadata": {},
   "outputs": [],
   "source": [
    "def d4_p2(x):\n",
    "    n_valid = 0\n",
    "    if 1920 <= int(x['byr']) <= 2002:\n",
    "        n_valid +=1\n",
    "    if 2010 <= int(x['iyr']) <= 2020:\n",
    "        n_valid +=1\n",
    "    if 2020 <= int(x['eyr']) <= 2030:\n",
    "        n_valid+=1\n",
    "    if x['hgt'][-2:] in ('in', 'cm') and (x['hgt'][-2:] =='in' and 59 <= int(x['hgt'][:-2]) <= 76) or (x['hgt'][-2:] == 'cm' and 150 <= int(x['hgt'][:-2]) <= 193):\n",
    "        n_valid +=1\n",
    "    if x['hcl'][0] == \"#\" and all(y in 'abcdef0123456789' for y in x['hcl'][1:]):\n",
    "        n_valid +=1\n",
    "    if x['ecl'] in ['amb', 'blu', 'brn', 'gry', 'grn', 'hzl', 'oth']:\n",
    "        n_valid +=1\n",
    "    if x['pid'].isdigit() and len(x['pid']) == 9:\n",
    "        n_valid +=1\n",
    "    return bool(n_valid == 7)"
   ]
  },
  {
   "cell_type": "code",
   "execution_count": 104,
   "metadata": {},
   "outputs": [
    {
     "name": "stdout",
     "output_type": "stream",
     "text": [
      "Number of valid passports: 194\n"
     ]
    }
   ],
   "source": [
    "n_valid = sum([d4_p1(x) and d4_p2(x) for x in passports])\n",
    "print(\"Number of valid passports: \" + str(n_valid))"
   ]
  },
  {
   "cell_type": "markdown",
   "metadata": {},
   "source": [
    "# Day 5"
   ]
  },
  {
   "cell_type": "code",
   "execution_count": null,
   "metadata": {},
   "outputs": [],
   "source": [
    "with open(\"aoc_day_5.txt\") as f:\n",
    "    boarding = f.readlines()\n",
    "boarding = [x.strip() for x in boarding] "
   ]
  },
  {
   "cell_type": "code",
   "execution_count": 99,
   "metadata": {},
   "outputs": [],
   "source": [
    "def front_back(x, start = 0, end = 127):\n",
    "    if x == 'F':\n",
    "        end = start + math.floor((end-start)/2)\n",
    "    elif x == 'B':\n",
    "        start = start + math.ceil((end-start)/2)\n",
    "    return start, end\n",
    "\n",
    "def left_right(x, start = 0, end = 7):\n",
    "    if x =='L':\n",
    "        end = start + math.floor((end-start)/2)\n",
    "    elif x == 'R':\n",
    "        start = start + math.ceil((end-start)/2)\n",
    "    return start, end\n",
    "\n",
    "def find_row(string):\n",
    "    for i in range(len(string)):\n",
    "        if i == 0:\n",
    "            start, end = front_back(string[i])\n",
    "        else:\n",
    "            start, end = front_back(string[i], start, end)\n",
    "    return start\n",
    "\n",
    "def find_column(string):\n",
    "    for i in range(len(string)):\n",
    "        if i == 0:\n",
    "            start, end = left_right(string[i])\n",
    "        else:\n",
    "            start, end = left_right(string[i], start, end)\n",
    "    return end\n",
    "\n",
    "def ticket_id(string):\n",
    "    row = find_row(string[:-3])\n",
    "    column = find_column(string[-3:])\n",
    "    return row * 8 + column"
   ]
  },
  {
   "cell_type": "code",
   "execution_count": 117,
   "metadata": {},
   "outputs": [],
   "source": [
    "ids = []\n",
    "for i in boarding:\n",
    "    ids.append(ticket_id(i))"
   ]
  },
  {
   "cell_type": "code",
   "execution_count": 118,
   "metadata": {},
   "outputs": [
    {
     "data": {
      "text/plain": [
       "{0,\n",
       " 1,\n",
       " 2,\n",
       " 3,\n",
       " 4,\n",
       " 5,\n",
       " 6,\n",
       " 7,\n",
       " 8,\n",
       " 9,\n",
       " 10,\n",
       " 11,\n",
       " 12,\n",
       " 13,\n",
       " 14,\n",
       " 15,\n",
       " 16,\n",
       " 17,\n",
       " 18,\n",
       " 19,\n",
       " 20,\n",
       " 21,\n",
       " 22,\n",
       " 23,\n",
       " 24,\n",
       " 25,\n",
       " 26,\n",
       " 27,\n",
       " 28,\n",
       " 29,\n",
       " 30,\n",
       " 31,\n",
       " 32,\n",
       " 33,\n",
       " 34,\n",
       " 623}"
      ]
     },
     "execution_count": 118,
     "metadata": {},
     "output_type": "execute_result"
    }
   ],
   "source": [
    "full_range = set(list(range(0, 886)))\n",
    "set(full_range - set(ids))"
   ]
  },
  {
   "cell_type": "code",
   "execution_count": null,
   "metadata": {},
   "outputs": [],
   "source": [
    "#Since there is only one missing id that also does not have the id+1 and id-1 in the set of missing ids, your ticket id is 623"
   ]
  },
  {
   "cell_type": "markdown",
   "metadata": {},
   "source": [
    "# Day 6"
   ]
  },
  {
   "cell_type": "code",
   "execution_count": 124,
   "metadata": {},
   "outputs": [],
   "source": [
    "customs = [line.replace('\\n',' ') for line in open('aoc_day_6.txt').read().split('\\n\\n') ]"
   ]
  },
  {
   "cell_type": "code",
   "execution_count": 126,
   "metadata": {},
   "outputs": [
    {
     "data": {
      "text/plain": [
       "['obegcmqadtrhui qbgocuzeimrhdat icuagdbztxrqehoy cuietqhbfroagds uqdgikwhrvcjeltbpao',\n",
       " 'arke qzr plmgnr uriq',\n",
       " 'boqznasg ozbncqasg ofgpznjbaqst bgszanoq',\n",
       " 'srjykwuxvezbgdacmfltnhi zuiedmknagswfcjxbltvyh dcxsuhfrwzleatmnyjkbigv zuesnjfkvclgmbwxdahyti hvbndegywclpimuxotsajkzf',\n",
       " 'zydkwetqav wyqtmveadk']"
      ]
     },
     "execution_count": 126,
     "metadata": {},
     "output_type": "execute_result"
    }
   ],
   "source": [
    "customs[0:5]"
   ]
  },
  {
   "cell_type": "code",
   "execution_count": 214,
   "metadata": {},
   "outputs": [],
   "source": [
    "def n_questions_anyone(string):\n",
    "    questions_set = set(string.replace(' ', ''))\n",
    "    return len(questions_set)"
   ]
  },
  {
   "cell_type": "code",
   "execution_count": 215,
   "metadata": {},
   "outputs": [
    {
     "data": {
      "text/plain": [
       "6530"
      ]
     },
     "execution_count": 215,
     "metadata": {},
     "output_type": "execute_result"
    }
   ],
   "source": [
    "running_count = 0\n",
    "for i in customs:\n",
    "    running_count += n_questions_anyone(i)\n",
    "running_count"
   ]
  },
  {
   "cell_type": "code",
   "execution_count": 216,
   "metadata": {},
   "outputs": [],
   "source": [
    "def n_questions_everyone(string):\n",
    "    group_members = len(string.split(' '))\n",
    "    base_set = set(string.split(' ')[0])\n",
    "    if group_members == 1:\n",
    "        return len(base_set)\n",
    "    else:\n",
    "        for i in range(group_members):\n",
    "            base_set = base_set.intersection(set(string.split(' ')[i]))\n",
    "    return len(base_set)"
   ]
  },
  {
   "cell_type": "code",
   "execution_count": 217,
   "metadata": {},
   "outputs": [
    {
     "data": {
      "text/plain": [
       "3323"
      ]
     },
     "execution_count": 217,
     "metadata": {},
     "output_type": "execute_result"
    }
   ],
   "source": [
    "running_count = 0\n",
    "for i in customs:\n",
    "    running_count += n_questions_everyone(i)\n",
    "running_count"
   ]
  }
 ],
 "metadata": {
  "kernelspec": {
   "display_name": "Python 3",
   "language": "python",
   "name": "python3"
  },
  "language_info": {
   "codemirror_mode": {
    "name": "ipython",
    "version": 3
   },
   "file_extension": ".py",
   "mimetype": "text/x-python",
   "name": "python",
   "nbconvert_exporter": "python",
   "pygments_lexer": "ipython3",
   "version": "3.8.5"
  }
 },
 "nbformat": 4,
 "nbformat_minor": 4
}
